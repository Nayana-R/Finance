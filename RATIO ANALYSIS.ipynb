{
 "cells": [
  {
   "cell_type": "markdown",
   "metadata": {},
   "source": [
    "# Assignment 1: RATIO ANALYSIS "
   ]
  },
  {
   "cell_type": "markdown",
   "metadata": {},
   "source": [
    "# XYZ Company\n",
    "\n",
    "It is an 117 years old Charitable Trust engaged in the practice and propagation of Ayurveda, the ancient health care science of India. It is a charitable hospital where deserving poor patients are provided with both ayurvedic and allopathic treatments, medicines, accommodation and food free of cost. Clinical research activities are also undertaken in Charitable Hospital with a focus on cancer and also to validate new drug development.\n",
    "Hospitals are located across the country to provide ayurvedic treatment, to patients from all parts of India as well as abroad.  It undertakes the task of planned cultivation of medicinal plants in herbal gardens as part of a project of conservation and sustainable use of medicinal plants. It is also engaged in academic activities. Conducting of annual Ayurveda Seminars and holding competitions for Ayurveda professionals and students are part of those efforts aimed at strengthening Ayurveda knowledge base.\n",
    "* As this is run by a trust, it do not have shares and shareholders."
   ]
  },
  {
   "cell_type": "code",
   "execution_count": 1,
   "metadata": {},
   "outputs": [],
   "source": [
    "import numpy as np\n",
    "import pandas as pd\n",
    "import matplotlib.pyplot as plt"
   ]
  },
  {
   "cell_type": "code",
   "execution_count": 2,
   "metadata": {},
   "outputs": [],
   "source": [
    "# Reading an Excel file into a pandas DataFrame\n",
    "\n",
    "balancesheet = pd.read_excel(r'D:\\NAYANA\\Term 2\\Finance\\Assignment\\Ass 1\\Balance Sheet.xlsx', sheet_name = 1)\n",
    "pnl = pd.read_excel(r'D:\\NAYANA\\Term 2\\Finance\\Assignment\\Ass 1\\P and L.xlsx', sheet_name = 1)"
   ]
  },
  {
   "cell_type": "code",
   "execution_count": 19,
   "metadata": {},
   "outputs": [
    {
     "data": {
      "text/html": [
       "<div>\n",
       "<style scoped>\n",
       "    .dataframe tbody tr th:only-of-type {\n",
       "        vertical-align: middle;\n",
       "    }\n",
       "\n",
       "    .dataframe tbody tr th {\n",
       "        vertical-align: top;\n",
       "    }\n",
       "\n",
       "    .dataframe thead th {\n",
       "        text-align: right;\n",
       "    }\n",
       "</style>\n",
       "<table border=\"1\" class=\"dataframe\">\n",
       "  <thead>\n",
       "    <tr style=\"text-align: right;\">\n",
       "      <th></th>\n",
       "      <th>EXPENSE</th>\n",
       "      <th>31.03.2018</th>\n",
       "      <th>31.03.2017</th>\n",
       "      <th>31.03.2016</th>\n",
       "      <th>31.03.2015</th>\n",
       "    </tr>\n",
       "  </thead>\n",
       "  <tbody>\n",
       "    <tr>\n",
       "      <th>0</th>\n",
       "      <td>To Rent</td>\n",
       "      <td>3.90075e+07</td>\n",
       "      <td>39054461</td>\n",
       "      <td>28069378</td>\n",
       "      <td>25254691</td>\n",
       "    </tr>\n",
       "    <tr>\n",
       "      <th>1</th>\n",
       "      <td>Lease Rent</td>\n",
       "      <td>NaN</td>\n",
       "      <td>NaN</td>\n",
       "      <td>NaN</td>\n",
       "      <td>NaN</td>\n",
       "    </tr>\n",
       "    <tr>\n",
       "      <th>2</th>\n",
       "      <td>At New Delhi</td>\n",
       "      <td>18951</td>\n",
       "      <td>18951</td>\n",
       "      <td>18951</td>\n",
       "      <td>18951</td>\n",
       "    </tr>\n",
       "    <tr>\n",
       "      <th>3</th>\n",
       "      <td>Taxes and Licence Fees</td>\n",
       "      <td>2.41189e+06</td>\n",
       "      <td>2384810</td>\n",
       "      <td>2.08008e+06</td>\n",
       "      <td>1760328</td>\n",
       "    </tr>\n",
       "    <tr>\n",
       "      <th>4</th>\n",
       "      <td>Profession Tax</td>\n",
       "      <td>65480</td>\n",
       "      <td>62780</td>\n",
       "      <td>61200</td>\n",
       "      <td>58003</td>\n",
       "    </tr>\n",
       "    <tr>\n",
       "      <th>5</th>\n",
       "      <td>Salaries and Allowances</td>\n",
       "      <td>2.75351e+08</td>\n",
       "      <td>165617489</td>\n",
       "      <td>1.59234e+08</td>\n",
       "      <td>155057714</td>\n",
       "    </tr>\n",
       "    <tr>\n",
       "      <th>6</th>\n",
       "      <td>Wages</td>\n",
       "      <td>4.01336e+07</td>\n",
       "      <td>24925229</td>\n",
       "      <td>2.45955e+07</td>\n",
       "      <td>24594779</td>\n",
       "    </tr>\n",
       "    <tr>\n",
       "      <th>7</th>\n",
       "      <td>Overtime Allowance</td>\n",
       "      <td>3.52401e+06</td>\n",
       "      <td>2515496</td>\n",
       "      <td>2.47087e+06</td>\n",
       "      <td>1673572</td>\n",
       "    </tr>\n",
       "    <tr>\n",
       "      <th>8</th>\n",
       "      <td>Bonus To Employees</td>\n",
       "      <td>13595077</td>\n",
       "      <td>12717023</td>\n",
       "      <td>12466195</td>\n",
       "      <td>6204775</td>\n",
       "    </tr>\n",
       "    <tr>\n",
       "      <th>9</th>\n",
       "      <td>Performance Award to Employees</td>\n",
       "      <td>5944930</td>\n",
       "      <td>5800478</td>\n",
       "      <td>2929181</td>\n",
       "      <td>2583356</td>\n",
       "    </tr>\n",
       "    <tr>\n",
       "      <th>10</th>\n",
       "      <td>Medical Aid to Employees</td>\n",
       "      <td>2.69371e+07</td>\n",
       "      <td>19149898</td>\n",
       "      <td>3351000</td>\n",
       "      <td>0</td>\n",
       "    </tr>\n",
       "    <tr>\n",
       "      <th>11</th>\n",
       "      <td>Contribution to Employees' Welfare Society</td>\n",
       "      <td>180960</td>\n",
       "      <td>121035</td>\n",
       "      <td>2.07119e+07</td>\n",
       "      <td>20759925</td>\n",
       "    </tr>\n",
       "    <tr>\n",
       "      <th>12</th>\n",
       "      <td>Contribution to Employees' Provident Fund</td>\n",
       "      <td>18639161</td>\n",
       "      <td>15481051</td>\n",
       "      <td>120660</td>\n",
       "      <td>121140</td>\n",
       "    </tr>\n",
       "    <tr>\n",
       "      <th>13</th>\n",
       "      <td>Contribution to Labour Welfare Fund</td>\n",
       "      <td>11920</td>\n",
       "      <td>12464</td>\n",
       "      <td>14281430</td>\n",
       "      <td>11765079</td>\n",
       "    </tr>\n",
       "    <tr>\n",
       "      <th>14</th>\n",
       "      <td>Gratuity and Pension</td>\n",
       "      <td>12637578</td>\n",
       "      <td>985113</td>\n",
       "      <td>12564</td>\n",
       "      <td>12746</td>\n",
       "    </tr>\n",
       "    <tr>\n",
       "      <th>15</th>\n",
       "      <td>Group Gratuity Fund Scheme Premium</td>\n",
       "      <td>9.68089e+06</td>\n",
       "      <td>1340599</td>\n",
       "      <td>1873975</td>\n",
       "      <td>1530105</td>\n",
       "    </tr>\n",
       "    <tr>\n",
       "      <th>16</th>\n",
       "      <td>Group Insurance Scheme Premium</td>\n",
       "      <td>745994</td>\n",
       "      <td>621550</td>\n",
       "      <td>3.59479e+06</td>\n",
       "      <td>7103321</td>\n",
       "    </tr>\n",
       "    <tr>\n",
       "      <th>17</th>\n",
       "      <td>Contribution to Kerala Shops And Commercial Es...</td>\n",
       "      <td>272640</td>\n",
       "      <td>266240</td>\n",
       "      <td>576861</td>\n",
       "      <td>387015</td>\n",
       "    </tr>\n",
       "    <tr>\n",
       "      <th>18</th>\n",
       "      <td>Creche Expenses</td>\n",
       "      <td>123396</td>\n",
       "      <td>0</td>\n",
       "      <td>259240</td>\n",
       "      <td>249280</td>\n",
       "    </tr>\n",
       "    <tr>\n",
       "      <th>19</th>\n",
       "      <td>Printing and Stationery</td>\n",
       "      <td>3.83142e+06</td>\n",
       "      <td>2732008</td>\n",
       "      <td>3.3308e+06</td>\n",
       "      <td>3500385</td>\n",
       "    </tr>\n",
       "    <tr>\n",
       "      <th>20</th>\n",
       "      <td>Postage</td>\n",
       "      <td>1.07698e+06</td>\n",
       "      <td>954199</td>\n",
       "      <td>810528</td>\n",
       "      <td>722796</td>\n",
       "    </tr>\n",
       "    <tr>\n",
       "      <th>21</th>\n",
       "      <td>Telephone Charges</td>\n",
       "      <td>3.76744e+06</td>\n",
       "      <td>3177346</td>\n",
       "      <td>3.11596e+06</td>\n",
       "      <td>2636230</td>\n",
       "    </tr>\n",
       "    <tr>\n",
       "      <th>22</th>\n",
       "      <td>Electricity Charges</td>\n",
       "      <td>6417565</td>\n",
       "      <td>5915507</td>\n",
       "      <td>5.57553e+06</td>\n",
       "      <td>4794210</td>\n",
       "    </tr>\n",
       "    <tr>\n",
       "      <th>23</th>\n",
       "      <td>Computer Expenses</td>\n",
       "      <td>8.7768e+06</td>\n",
       "      <td>8601661</td>\n",
       "      <td>6.5421e+06</td>\n",
       "      <td>2310119</td>\n",
       "    </tr>\n",
       "    <tr>\n",
       "      <th>24</th>\n",
       "      <td>Generator Running Expenses</td>\n",
       "      <td>287750</td>\n",
       "      <td>302813</td>\n",
       "      <td>339216</td>\n",
       "      <td>303497</td>\n",
       "    </tr>\n",
       "  </tbody>\n",
       "</table>\n",
       "</div>"
      ],
      "text/plain": [
       "                                              EXPENSE   31.03.2018  \\\n",
       "0                                             To Rent  3.90075e+07   \n",
       "1                                          Lease Rent          NaN   \n",
       "2                                        At New Delhi        18951   \n",
       "3                              Taxes and Licence Fees  2.41189e+06   \n",
       "4                                      Profession Tax        65480   \n",
       "5                             Salaries and Allowances  2.75351e+08   \n",
       "6                                               Wages  4.01336e+07   \n",
       "7                                  Overtime Allowance  3.52401e+06   \n",
       "8                                  Bonus To Employees     13595077   \n",
       "9                      Performance Award to Employees      5944930   \n",
       "10                           Medical Aid to Employees  2.69371e+07   \n",
       "11         Contribution to Employees' Welfare Society       180960   \n",
       "12          Contribution to Employees' Provident Fund     18639161   \n",
       "13                Contribution to Labour Welfare Fund        11920   \n",
       "14                               Gratuity and Pension     12637578   \n",
       "15                 Group Gratuity Fund Scheme Premium  9.68089e+06   \n",
       "16                     Group Insurance Scheme Premium       745994   \n",
       "17  Contribution to Kerala Shops And Commercial Es...       272640   \n",
       "18                                    Creche Expenses       123396   \n",
       "19                            Printing and Stationery  3.83142e+06   \n",
       "20                                           Postage   1.07698e+06   \n",
       "21                                  Telephone Charges  3.76744e+06   \n",
       "22                                Electricity Charges      6417565   \n",
       "23                                  Computer Expenses   8.7768e+06   \n",
       "24                         Generator Running Expenses       287750   \n",
       "\n",
       "    31.03.2017   31.03.2016  31.03.2015  \n",
       "0     39054461     28069378    25254691  \n",
       "1          NaN          NaN         NaN  \n",
       "2        18951        18951       18951  \n",
       "3      2384810  2.08008e+06     1760328  \n",
       "4        62780        61200       58003  \n",
       "5    165617489  1.59234e+08   155057714  \n",
       "6     24925229  2.45955e+07    24594779  \n",
       "7      2515496  2.47087e+06     1673572  \n",
       "8     12717023     12466195     6204775  \n",
       "9      5800478      2929181     2583356  \n",
       "10    19149898      3351000           0  \n",
       "11      121035  2.07119e+07    20759925  \n",
       "12    15481051       120660      121140  \n",
       "13       12464     14281430    11765079  \n",
       "14      985113        12564       12746  \n",
       "15     1340599      1873975     1530105  \n",
       "16      621550  3.59479e+06     7103321  \n",
       "17      266240       576861      387015  \n",
       "18           0       259240      249280  \n",
       "19     2732008   3.3308e+06     3500385  \n",
       "20      954199       810528      722796  \n",
       "21     3177346  3.11596e+06     2636230  \n",
       "22     5915507  5.57553e+06     4794210  \n",
       "23     8601661   6.5421e+06     2310119  \n",
       "24      302813       339216      303497  "
      ]
     },
     "execution_count": 19,
     "metadata": {},
     "output_type": "execute_result"
    }
   ],
   "source": [
    "pnl.head(25)"
   ]
  },
  {
   "cell_type": "code",
   "execution_count": 22,
   "metadata": {
    "scrolled": true
   },
   "outputs": [
    {
     "data": {
      "text/html": [
       "<div>\n",
       "<style scoped>\n",
       "    .dataframe tbody tr th:only-of-type {\n",
       "        vertical-align: middle;\n",
       "    }\n",
       "\n",
       "    .dataframe tbody tr th {\n",
       "        vertical-align: top;\n",
       "    }\n",
       "\n",
       "    .dataframe thead th {\n",
       "        text-align: right;\n",
       "    }\n",
       "</style>\n",
       "<table border=\"1\" class=\"dataframe\">\n",
       "  <thead>\n",
       "    <tr style=\"text-align: right;\">\n",
       "      <th></th>\n",
       "      <th>CAPITAL AND LIABILITIES</th>\n",
       "      <th>31.03.2018</th>\n",
       "      <th>31.03.2017</th>\n",
       "      <th>31.03.2016</th>\n",
       "      <th>31.03.2015</th>\n",
       "    </tr>\n",
       "  </thead>\n",
       "  <tbody>\n",
       "    <tr>\n",
       "      <th>0</th>\n",
       "      <td>LIABILITIES AND PROVISIONS</td>\n",
       "      <td>NaN</td>\n",
       "      <td>NaN</td>\n",
       "      <td>NaN</td>\n",
       "      <td>NaN</td>\n",
       "    </tr>\n",
       "    <tr>\n",
       "      <th>1</th>\n",
       "      <td>Sundry Creditors</td>\n",
       "      <td>2.21498e+08</td>\n",
       "      <td>215108840</td>\n",
       "      <td>2.08494e+08</td>\n",
       "      <td>222747766</td>\n",
       "    </tr>\n",
       "    <tr>\n",
       "      <th>2</th>\n",
       "      <td>Provisions</td>\n",
       "      <td>NaN</td>\n",
       "      <td>NaN</td>\n",
       "      <td>NaN</td>\n",
       "      <td>NaN</td>\n",
       "    </tr>\n",
       "    <tr>\n",
       "      <th>3</th>\n",
       "      <td>For Group Leave Encashment Benefit</td>\n",
       "      <td>2.86052e+07</td>\n",
       "      <td>5426486</td>\n",
       "      <td>1.10537e+07</td>\n",
       "      <td>111564885</td>\n",
       "    </tr>\n",
       "    <tr>\n",
       "      <th>4</th>\n",
       "      <td>For Gratuity</td>\n",
       "      <td>88094469</td>\n",
       "      <td>765841</td>\n",
       "      <td>1896294</td>\n",
       "      <td>470863</td>\n",
       "    </tr>\n",
       "    <tr>\n",
       "      <th>5</th>\n",
       "      <td>NaN</td>\n",
       "      <td>3.38197e+08</td>\n",
       "      <td>221301167</td>\n",
       "      <td>2.21444e+08</td>\n",
       "      <td>334783514</td>\n",
       "    </tr>\n",
       "    <tr>\n",
       "      <th>6</th>\n",
       "      <td>AMOUNT DUE TO KERALA AYURVEDIC STUDIES AND RES...</td>\n",
       "      <td>NaN</td>\n",
       "      <td>NaN</td>\n",
       "      <td>NaN</td>\n",
       "      <td>NaN</td>\n",
       "    </tr>\n",
       "    <tr>\n",
       "      <th>7</th>\n",
       "      <td>Balance as per last Balance Sheet</td>\n",
       "      <td>4.5755e+07</td>\n",
       "      <td>0</td>\n",
       "      <td>0</td>\n",
       "      <td>15433196</td>\n",
       "    </tr>\n",
       "    <tr>\n",
       "      <th>8</th>\n",
       "      <td>Add: Transfer from Charitable Purposes Fund</td>\n",
       "      <td>3.95372e+07</td>\n",
       "      <td>45755031</td>\n",
       "      <td>2.59011e+07</td>\n",
       "      <td>15869034</td>\n",
       "    </tr>\n",
       "    <tr>\n",
       "      <th>9</th>\n",
       "      <td>NaN</td>\n",
       "      <td>8.52922e+07</td>\n",
       "      <td>45755031</td>\n",
       "      <td>2.59011e+07</td>\n",
       "      <td>31302230</td>\n",
       "    </tr>\n",
       "    <tr>\n",
       "      <th>10</th>\n",
       "      <td>Less: Amount paid</td>\n",
       "      <td>5.0751e+07</td>\n",
       "      <td>0</td>\n",
       "      <td>2.59011e+07</td>\n",
       "      <td>31302230</td>\n",
       "    </tr>\n",
       "    <tr>\n",
       "      <th>11</th>\n",
       "      <td>NaN</td>\n",
       "      <td>3.45412e+07</td>\n",
       "      <td>45755031</td>\n",
       "      <td>0</td>\n",
       "      <td>0</td>\n",
       "    </tr>\n",
       "    <tr>\n",
       "      <th>12</th>\n",
       "      <td>TOTAL CURRENT LIABILITIES</td>\n",
       "      <td>3.72739e+08</td>\n",
       "      <td>267056198</td>\n",
       "      <td>2.21444e+08</td>\n",
       "      <td>334783514</td>\n",
       "    </tr>\n",
       "    <tr>\n",
       "      <th>13</th>\n",
       "      <td>SECURED LOANS</td>\n",
       "      <td>5.27979e+07</td>\n",
       "      <td>850984</td>\n",
       "      <td>1.29156e+07</td>\n",
       "      <td>91754957</td>\n",
       "    </tr>\n",
       "    <tr>\n",
       "      <th>14</th>\n",
       "      <td>GENERAL RESERVE FUND</td>\n",
       "      <td>NaN</td>\n",
       "      <td>NaN</td>\n",
       "      <td>NaN</td>\n",
       "      <td>NaN</td>\n",
       "    </tr>\n",
       "    <tr>\n",
       "      <th>15</th>\n",
       "      <td>Balance as per last Balance Sheet</td>\n",
       "      <td>1.38258e+09</td>\n",
       "      <td>1.17668e+09</td>\n",
       "      <td>1.06012e+09</td>\n",
       "      <td>988714040</td>\n",
       "    </tr>\n",
       "    <tr>\n",
       "      <th>16</th>\n",
       "      <td>Add: Transfer from Charitable Purposes Fund</td>\n",
       "      <td>1.77917e+08</td>\n",
       "      <td>205897641</td>\n",
       "      <td>1.16555e+08</td>\n",
       "      <td>71410654</td>\n",
       "    </tr>\n",
       "    <tr>\n",
       "      <th>17</th>\n",
       "      <td>NaN</td>\n",
       "      <td>1.56049e+09</td>\n",
       "      <td>1.38258e+09</td>\n",
       "      <td>1.17668e+09</td>\n",
       "      <td>1060124694</td>\n",
       "    </tr>\n",
       "    <tr>\n",
       "      <th>18</th>\n",
       "      <td>HOSPITAL RESERVE FUND</td>\n",
       "      <td>NaN</td>\n",
       "      <td>NaN</td>\n",
       "      <td>NaN</td>\n",
       "      <td>NaN</td>\n",
       "    </tr>\n",
       "    <tr>\n",
       "      <th>19</th>\n",
       "      <td>Balance as per last Balance Sheet</td>\n",
       "      <td>2.60469e+08</td>\n",
       "      <td>1.5764e+08</td>\n",
       "      <td>1.30194e+08</td>\n",
       "      <td>131975440</td>\n",
       "    </tr>\n",
       "    <tr>\n",
       "      <th>20</th>\n",
       "      <td>Add: Transfer from Charitable Purposes Fund</td>\n",
       "      <td>1.77917e+08</td>\n",
       "      <td>205897642</td>\n",
       "      <td>1.16555e+08</td>\n",
       "      <td>71410655</td>\n",
       "    </tr>\n",
       "    <tr>\n",
       "      <th>21</th>\n",
       "      <td>Interest on Bank Deposits</td>\n",
       "      <td>2.07724e+07</td>\n",
       "      <td>17218974</td>\n",
       "      <td>12385326</td>\n",
       "      <td>12854480</td>\n",
       "    </tr>\n",
       "    <tr>\n",
       "      <th>22</th>\n",
       "      <td>NaN</td>\n",
       "      <td>4.59158e+08</td>\n",
       "      <td>380756253</td>\n",
       "      <td>2.59134e+08</td>\n",
       "      <td>216240575</td>\n",
       "    </tr>\n",
       "    <tr>\n",
       "      <th>23</th>\n",
       "      <td>Less: Expenses during 2016-17</td>\n",
       "      <td>1.08006e+08</td>\n",
       "      <td>1.20288e+08</td>\n",
       "      <td>1.01495e+08</td>\n",
       "      <td>86046556</td>\n",
       "    </tr>\n",
       "    <tr>\n",
       "      <th>24</th>\n",
       "      <td>NaN</td>\n",
       "      <td>3.51152e+08</td>\n",
       "      <td>2.60469e+08</td>\n",
       "      <td>1.5764e+08</td>\n",
       "      <td>130194019</td>\n",
       "    </tr>\n",
       "  </tbody>\n",
       "</table>\n",
       "</div>"
      ],
      "text/plain": [
       "                              CAPITAL AND LIABILITIES   31.03.2018  \\\n",
       "0                          LIABILITIES AND PROVISIONS          NaN   \n",
       "1                                    Sundry Creditors  2.21498e+08   \n",
       "2                                          Provisions          NaN   \n",
       "3                  For Group Leave Encashment Benefit  2.86052e+07   \n",
       "4                                        For Gratuity     88094469   \n",
       "5                                                 NaN  3.38197e+08   \n",
       "6   AMOUNT DUE TO KERALA AYURVEDIC STUDIES AND RES...          NaN   \n",
       "7                   Balance as per last Balance Sheet   4.5755e+07   \n",
       "8         Add: Transfer from Charitable Purposes Fund  3.95372e+07   \n",
       "9                                                 NaN  8.52922e+07   \n",
       "10                                  Less: Amount paid   5.0751e+07   \n",
       "11                                                NaN  3.45412e+07   \n",
       "12                          TOTAL CURRENT LIABILITIES  3.72739e+08   \n",
       "13                                      SECURED LOANS  5.27979e+07   \n",
       "14                               GENERAL RESERVE FUND          NaN   \n",
       "15                  Balance as per last Balance Sheet  1.38258e+09   \n",
       "16       Add: Transfer from Charitable Purposes Fund   1.77917e+08   \n",
       "17                                                NaN  1.56049e+09   \n",
       "18                              HOSPITAL RESERVE FUND          NaN   \n",
       "19                  Balance as per last Balance Sheet  2.60469e+08   \n",
       "20        Add: Transfer from Charitable Purposes Fund  1.77917e+08   \n",
       "21                          Interest on Bank Deposits  2.07724e+07   \n",
       "22                                                NaN  4.59158e+08   \n",
       "23                      Less: Expenses during 2016-17  1.08006e+08   \n",
       "24                                                NaN  3.51152e+08   \n",
       "\n",
       "     31.03.2017   31.03.2016  31.03.2015  \n",
       "0           NaN          NaN         NaN  \n",
       "1     215108840  2.08494e+08   222747766  \n",
       "2           NaN          NaN         NaN  \n",
       "3       5426486  1.10537e+07   111564885  \n",
       "4        765841      1896294      470863  \n",
       "5     221301167  2.21444e+08   334783514  \n",
       "6           NaN          NaN         NaN  \n",
       "7             0            0    15433196  \n",
       "8      45755031  2.59011e+07    15869034  \n",
       "9      45755031  2.59011e+07    31302230  \n",
       "10            0  2.59011e+07    31302230  \n",
       "11     45755031            0           0  \n",
       "12    267056198  2.21444e+08   334783514  \n",
       "13       850984  1.29156e+07    91754957  \n",
       "14          NaN          NaN         NaN  \n",
       "15  1.17668e+09  1.06012e+09   988714040  \n",
       "16    205897641  1.16555e+08    71410654  \n",
       "17  1.38258e+09  1.17668e+09  1060124694  \n",
       "18          NaN          NaN         NaN  \n",
       "19   1.5764e+08  1.30194e+08   131975440  \n",
       "20    205897642  1.16555e+08    71410655  \n",
       "21     17218974     12385326    12854480  \n",
       "22    380756253  2.59134e+08   216240575  \n",
       "23  1.20288e+08  1.01495e+08    86046556  \n",
       "24  2.60469e+08   1.5764e+08   130194019  "
      ]
     },
     "execution_count": 22,
     "metadata": {},
     "output_type": "execute_result"
    }
   ],
   "source": [
    "balancesheet.head(25)"
   ]
  },
  {
   "cell_type": "markdown",
   "metadata": {},
   "source": [
    "# Ratio Analysis\n",
    "\n",
    "1. Quick Ratio\n",
    "2. Current Ratio\n",
    "3. Debt to Equity Ratio\n",
    "4. Sales Turnover Ratio\n",
    "5. Profit Margin Ratio\n",
    "6. Return on Investment"
   ]
  },
  {
   "cell_type": "code",
   "execution_count": 5,
   "metadata": {},
   "outputs": [],
   "source": [
    "# Function to extract particular row from the table\n",
    "\n",
    "def LabelRow(label,column,table):\n",
    "    for _, row in table.iterrows():\n",
    "        if row[column] == label:\n",
    "            return row\n",
    "    return None"
   ]
  },
  {
   "cell_type": "code",
   "execution_count": 6,
   "metadata": {},
   "outputs": [],
   "source": [
    "# Function to print \n",
    "\n",
    "def PrintRatio(ratio,title):\n",
    "    for year,rat in ratio.items():\n",
    "        print('{0} of {1} is {2}'.format(title,year[-4:],str(rat)))"
   ]
  },
  {
   "cell_type": "code",
   "execution_count": 7,
   "metadata": {},
   "outputs": [],
   "source": [
    "# Function for plotting the graph\n",
    "\n",
    "def GraphPlot(title):\n",
    "    year = ['31.03.2018', '31.03.2017', '31.03.2016', '31.03.2015']\n",
    "    ratios = [rat for year,rat in ratio.items()]\n",
    "    plt.plot(year, ratios)\n",
    "    plt.xlabel('Year')\n",
    "    plt.ylabel(title)\n",
    "    plt.show()"
   ]
  },
  {
   "cell_type": "code",
   "execution_count": 8,
   "metadata": {},
   "outputs": [],
   "source": [
    "years  = balancesheet.columns[1:]\n",
    "ratio = {}\n",
    "\n",
    "category1 = 'CAPITAL AND LIABILITIES'\n",
    "category2 = 'EXPENSE'"
   ]
  },
  {
   "cell_type": "markdown",
   "metadata": {},
   "source": [
    "# Quick Ratio\n",
    "It is an indicator of a company’s short-term liquidity position and measures a company’s ability to meet its short-term obligations with its most liquid assets. Since it indicates the company’s ability to instantly use its near-cash assets i.e., assets that can be converted quickly to cash to pay down its current liabilities, it is also called as the acid test ratio."
   ]
  },
  {
   "cell_type": "code",
   "execution_count": 11,
   "metadata": {},
   "outputs": [
    {
     "name": "stdout",
     "output_type": "stream",
     "text": [
      "Quick Ratio of 2018 is 2.7038070473920173\n",
      "Quick Ratio of 2017 is 3.81362168198021\n",
      "Quick Ratio of 2016 is 3.309501493860279\n",
      "Quick Ratio of 2015 is 1.8388064981001428\n"
     ]
    },
    {
     "data": {
      "image/png": "[encoded data removed]",
      "text/plain": [
       "<Figure size 432x288 with 1 Axes>"
      ]
     },
     "metadata": {
      "needs_background": "light"
     },
     "output_type": "display_data"
    }
   ],
   "source": [
    "current_liabilities = LabelRow('TOTAL CURRENT LIABILITIES', category1, balancesheet)\n",
    "current_assets  = LabelRow('TOTAL CURRENT ASSETS', category1, balancesheet)\n",
    "inventories = LabelRow('TOTAL INVENTORIES', category1, balancesheet)\n",
    "\n",
    "for year in years:\n",
    "    ratio[year] = ( current_assets[year] - inventories[year] ) / current_liabilities[year]\n",
    "\n",
    "PrintRatio(ratio, 'Quick Ratio')\n",
    "\n",
    "GraphPlot('Quick Ratio')"
   ]
  },
  {
   "cell_type": "markdown",
   "metadata": {},
   "source": [
    "* From the above result, we can observe that the the Quick Ratio is more than 1 for all the 4 Financial Years. i.e., the company can instantly get rid of its current liabilities.\n",
    "* For the FYs 2015-2016 and 2016-2017, the ratio is more compared to the other 2 years. For those 2 FYs the firm had more than 3 times as much cash as it has to repay."
   ]
  },
  {
   "cell_type": "markdown",
   "metadata": {},
   "source": [
    "# Current Ratio\n",
    "\n",
    "It is a liquidity ratio that measures a company's ability to pay short-term obligations or those due within one year. It tells investors and analysts how a company can maximise the current assets on its balance sheet to satisfy its current debt and other payables. The higher the current ratio, the more capable a company is of paying its obligations because it has a larger proportion of short-term asset value relative to the value of its short-term liabilities."
   ]
  },
  {
   "cell_type": "code",
   "execution_count": 14,
   "metadata": {},
   "outputs": [
    {
     "name": "stdout",
     "output_type": "stream",
     "text": [
      "Current Ratio of 2018 is 5.434334956172553\n",
      "Current Ratio of 2017 is 7.115031986638258\n",
      "Current Ratio of 2016 is 7.347994769510531\n",
      "Current Ratio of 2015 is 4.531457608124635\n"
     ]
    },
    {
     "data": {
      "image/png": "[encoded data removed]",
      "text/plain": [
       "<Figure size 432x288 with 1 Axes>"
      ]
     },
     "metadata": {
      "needs_background": "light"
     },
     "output_type": "display_data"
    }
   ],
   "source": [
    "current_liabilities = LabelRow('TOTAL CURRENT LIABILITIES', category1, balancesheet)\n",
    "current_assets  = LabelRow('TOTAL CURRENT ASSETS', category1, balancesheet)\n",
    "\n",
    "for year in years:\n",
    "    ratio[year] = current_assets[year] / current_liabilities[year]\n",
    "\n",
    "PrintRatio(ratio, 'Current Ratio')\n",
    "\n",
    "GraphPlot('Current Ratio')"
   ]
  },
  {
   "cell_type": "markdown",
   "metadata": {},
   "source": [
    "* We can observe that the Current Ratio is high, i.e., it is above 3, could indicate the company can cover its current liabilities that many times. It may also indicate that it's not using its current assets efficiently, is not securing financing very well, or is not managing its working capital.\n",
    "* When comparing with Acid Test, we can understand that, most of the assets are Inventories. i.e., goods, raw materials and live stocks. But, as this company is a healthcare firm based on Ayurveda, they have to store an additional amount of raw materials for the coming year also, in case they couldn't get sufficient materials.\n",
    "* The ratio is comparitively high for the financial years 2015-2016 and 2016-2017 mosly because their liabilities were less in those years."
   ]
  },
  {
   "cell_type": "markdown",
   "metadata": {},
   "source": [
    "# Debt to Equity Ratio\n",
    "It measures the company's financial leverage.\n",
    "This ratio indicates what proportion of equity and debt the company is using to finance its assets."
   ]
  },
  {
   "cell_type": "code",
   "execution_count": 15,
   "metadata": {},
   "outputs": [
    {
     "name": "stdout",
     "output_type": "stream",
     "text": [
      "Debt to Equity Ratio of 2018 is 0.21084445888026418\n",
      "Debt to Equity Ratio of 2017 is 0.13069276809597496\n",
      "Debt to Equity Ratio of 2016 is 0.1301619963605632\n",
      "Debt to Equity Ratio of 2015 is 0.29254818548196204\n"
     ]
    },
    {
     "data": {
      "image/png": "[encoded data removed]",
      "text/plain": [
       "<Figure size 432x288 with 1 Axes>"
      ]
     },
     "metadata": {
      "needs_background": "light"
     },
     "output_type": "display_data"
    }
   ],
   "source": [
    "secured_loans = LabelRow('SECURED LOANS', category1, balancesheet)\n",
    "capital = LabelRow('TOTAL CAPITAL', category1, balancesheet)\n",
    "\n",
    "for year in years:\n",
    "    ratio[year] = (current_liabilities[year] + secured_loans[year])/ capital[year]\n",
    "\n",
    "PrintRatio(ratio, 'Debt to Equity Ratio')\n",
    "\n",
    "GraphPlot('Debt to Equity Ratio')"
   ]
  },
  {
   "cell_type": "markdown",
   "metadata": {},
   "source": [
    "* The Debt to Equity ratio is almost uniform for all the 4 FYs.\n",
    "* The ratio is low. i.e., below about 0.30 which is generally considered good, because the company has a low amount of debt and is exposed to less risk in terms of interest rate increases or credit rating.\n",
    "* We can understand that the company is using less leverage and has a stronger equity position."
   ]
  },
  {
   "cell_type": "markdown",
   "metadata": {},
   "source": [
    "# Sales Turnover Ratio\n",
    "It shows how efficiently a company can use its assets to generate sales. It aims to measure sales as a percentage of average assets to determine how much sales is generated by each rupee of assets."
   ]
  },
  {
   "cell_type": "code",
   "execution_count": 16,
   "metadata": {},
   "outputs": [
    {
     "name": "stdout",
     "output_type": "stream",
     "text": [
      "Sales Turnover Ratio of 2018 is 1.1459478856262917\n",
      "Sales Turnover Ratio of 2017 is 1.1616656753299546\n",
      "Sales Turnover Ratio of 2016 is 1.1621318542938304\n",
      "Sales Turnover Ratio of 2015 is 1.410199087295116\n"
     ]
    },
    {
     "data": {
      "image/png": "[encoded data removed]",
      "text/plain": [
       "<Figure size 432x288 with 1 Axes>"
      ]
     },
     "metadata": {
      "needs_background": "light"
     },
     "output_type": "display_data"
    }
   ],
   "source": [
    "fixed_assets = LabelRow('TOTAL FIXED ASSETS', category1, balancesheet)\n",
    "current_assets = LabelRow('TOTAL CURRENT ASSETS', category1, balancesheet)\n",
    "revenue = LabelRow('TOTAL REVENUE', category2, pnl)\n",
    "\n",
    "for year in years:\n",
    "    ratio[year] = revenue[year] / ( current_assets[year] + fixed_assets[year] )\n",
    "\n",
    "PrintRatio(ratio, 'Sales Turnover Ratio')\n",
    "\n",
    "GraphPlot('Sales Turnover Ratio')"
   ]
  },
  {
   "cell_type": "markdown",
   "metadata": {},
   "source": [
    "* From the above data, we can conclude that for every 1 Ruppe worth of assets, an average of 1.2 Rupees worth of sale is generated in the company\n",
    "* In the field of Healthcare, the average Sales Turnover ratio is 0.56. Comparing this with the above data, we can conclude that it has a very good Sales Turnover Ratio."
   ]
  },
  {
   "cell_type": "markdown",
   "metadata": {},
   "source": [
    "# Profit Margin Ratio\n",
    "The profit margin is a ratio that tells you the portion of a company's income that is profit. It tells you how much a company keeps out of its actual earnings.\n",
    "It tells about the company’s profitability and overall health."
   ]
  },
  {
   "cell_type": "code",
   "execution_count": 17,
   "metadata": {},
   "outputs": [
    {
     "name": "stdout",
     "output_type": "stream",
     "text": [
      "Profit Margin Ratio of 2018 is 0.002791224421161408\n",
      "Profit Margin Ratio of 2017 is 0.11226670677969391\n",
      "Profit Margin Ratio of 2016 is 0.15506158805195935\n",
      "Profit Margin Ratio of 2015 is 0.06948334931644778\n"
     ]
    },
    {
     "data": {
      "image/png": "[encoded data removed]",
      "text/plain": [
       "<Figure size 432x288 with 1 Axes>"
      ]
     },
     "metadata": {
      "needs_background": "light"
     },
     "output_type": "display_data"
    }
   ],
   "source": [
    "revenue = LabelRow('TOTAL REVENUE', category2, pnl)\n",
    "net_profit = LabelRow('Net Profit', category2, pnl)\n",
    "\n",
    "for year in years:\n",
    "    ratio[year] = net_profit[year] / revenue[year]\n",
    "\n",
    "PrintRatio(ratio, 'Profit Margin Ratio')\n",
    "\n",
    "GraphPlot('Profit Margin Ratio')"
   ]
  },
  {
   "attachments": {},
   "cell_type": "markdown",
   "metadata": {},
   "source": [
    "* In the FY 2017-2018, we can observe a huge dip in Profit Margin Ratio even though the Sales of that FY was high compared to the other FYs.\n",
    "* From the P and L account, it is observed that the Net Profit was very less for the FY 2017-2018 due to Provision for Leave Encashment and Provision for Gratuity which made the Profit Margin Ratio go down.\n",
    "* Even for the FY 2014-2015, the Provision for Leave Encashment is comparitively high which lead to less Profit Margin Ratio."
   ]
  },
  {
   "cell_type": "markdown",
   "metadata": {},
   "source": [
    "# Return On Investment'\n",
    "It is a Profitability Ratio.\n",
    "But Return on investment isn't necessarily the same as profit. ROI deals with the money that is invested in the company and the return on that money is based on the net profit of the business. Profit, on the other hand, measures the performance of the business."
   ]
  },
  {
   "cell_type": "code",
   "execution_count": 18,
   "metadata": {},
   "outputs": [
    {
     "name": "stdout",
     "output_type": "stream",
     "text": [
      "Return on Investment of 2018 is 1.8517118963543755\n",
      "Return on Investment of 2017 is 91.86742260278137\n",
      "Return on Investment of 2016 is 149.58087943777136\n",
      "Return on Investment of 2015 is 101.62030270083704\n"
     ]
    },
    {
     "data": {
      "image/png": "[encoded data removed]",
      "text/plain": [
       "<Figure size 432x288 with 1 Axes>"
      ]
     },
     "metadata": {
      "needs_background": "light"
     },
     "output_type": "display_data"
    }
   ],
   "source": [
    "net_profit = LabelRow('Net Profit', category2, pnl)\n",
    "investment = LabelRow('TOTAL INVESTMENTS', category1, balancesheet)\n",
    "\n",
    "for year in years:\n",
    "    ratio[year] = ( net_profit[year] / investment[year] ) * 100\n",
    "\n",
    "PrintRatio(ratio, 'Return on Investment')\n",
    "\n",
    "GraphPlot('Return on Investment')"
   ]
  },
  {
   "cell_type": "markdown",
   "metadata": {},
   "source": [
    "* We can observe a huge variation in the ROI ratio between the years.\n",
    "* In 2018, it had long term settelement on salaries of employees as leave encashment and provision for gratuity, there is a huge decrease in the Net Profit compared to the other 3 FYs. Lead to a very less ROI ratio in 2018. \n",
    "* In 2016, Sales were high which lead to high Gross Profit and thereby high Net Profit. It was because of Price division impact which happend in the year 2014 which was reflected in the FY 2015-2016."
   ]
  },
  {
   "cell_type": "markdown",
   "metadata": {},
   "source": [
    "# ------------------------------------------------------ END -------------------------------------------------"
   ]
  }
 ],
 "metadata": {
  "kernelspec": {
   "display_name": "Python 3",
   "language": "python",
   "name": "python3"
  },
  "language_info": {
   "codemirror_mode": {
    "name": "ipython",
    "version": 3
   },
   "file_extension": ".py",
   "mimetype": "text/x-python",
   "name": "python",
   "nbconvert_exporter": "python",
   "pygments_lexer": "ipython3",
   "version": "3.7.1"
  }
 },
 "nbformat": 4,
 "nbformat_minor": 2
}
